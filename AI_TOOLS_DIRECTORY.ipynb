{
  "nbformat": 4,
  "nbformat_minor": 0,
  "metadata": {
    "colab": {
      "provenance": [],
      "authorship_tag": "ABX9TyMBNEIyCpTT9u3licpRYVnQ",
      "include_colab_link": true
    },
    "kernelspec": {
      "name": "python3",
      "display_name": "Python 3"
    },
    "language_info": {
      "name": "python"
    }
  },
  "cells": [
    {
      "cell_type": "markdown",
      "metadata": {
        "id": "view-in-github",
        "colab_type": "text"
      },
      "source": [
        "<a href=\"https://colab.research.google.com/github/LavishaMhjn1910/AI_TOOLS_DIRECTORY/blob/main/AI_TOOLS_DIRECTORY.ipynb\" target=\"_parent\"><img src=\"https://colab.research.google.com/assets/colab-badge.svg\" alt=\"Open In Colab\"/></a>"
      ]
    },
    {
      "cell_type": "code",
      "source": [
        "from IPython.display import display, HTML\n",
        "\n",
        "# List of top 15 trending AI tools with their names, URLs, and descriptions\n",
        "ai_tools = [\n",
        "    {\"name\": \"ChatGPT\", \"url\": \"https://www.openai.com/chatgpt\", \"function\": \"Advanced conversational AI that can engage in natural language conversations.\"},\n",
        "    {\"name\": \"Jasper\", \"url\": \"https://www.jasper.ai/\", \"function\": \"AI-powered content creation tool for generating text for blogs, ads, and more.\"},\n",
        "    {\"name\": \"Copy.ai\", \"url\": \"https://www.copy.ai/\", \"function\": \"AI tool for creating marketing copy, blog posts, and social media content.\"},\n",
        "    {\"name\": \"Grammarly\", \"url\": \"https://www.grammarly.com/\", \"function\": \"AI tool for grammar checking, spelling correction, and writing enhancement.\"},\n",
        "    {\"name\": \"Descript\", \"url\": \"https://www.descript.com/\", \"function\": \"AI-powered video and audio editing tool with transcription capabilities.\"},\n",
        "    {\"name\": \"DALL·E 3\", \"url\": \"https://www.openai.com/dall-e-3\", \"function\": \"AI image generator that creates images from textual descriptions.\"},\n",
        "    {\"name\": \"Anyword\", \"url\": \"https://www.anyword.com/\", \"function\": \"AI copywriting tool for creating and optimizing marketing copy.\"},\n",
        "    {\"name\": \"Wondershare Filmora\", \"url\": \"https://filmora.wondershare.com/\", \"function\": \"User-friendly video editing software with AI features.\"},\n",
        "    {\"name\": \"Runway\", \"url\": \"https://runwayml.com/\", \"function\": \"AI tools for creative projects, including video editing and effects.\"},\n",
        "    {\"name\": \"Midjourney\", \"url\": \"https://www.midjourney.com/\", \"function\": \"AI tool for generating artistic and creative images from text prompts.\"},\n",
        "    {\"name\": \"ProWritingAid\", \"url\": \"https://prowritingaid.com/\", \"function\": \"Comprehensive writing assistant for grammar checking and style improvement.\"},\n",
        "    {\"name\": \"Stable Diffusion\", \"url\": \"https://stability.ai/stable-diffusion\", \"function\": \"AI model for generating high-quality images from text descriptions.\"},\n",
        "    {\"name\": \"Zapier Central\", \"url\": \"https://zapier.com/apps/central\", \"function\": \"Integrates with various apps to automate workflows.\"},\n",
        "    {\"name\": \"Wordtune\", \"url\": \"https://www.wordtune.com/\", \"function\": \"AI tool for rephrasing sentences to improve clarity and style.\"},\n",
        "    {\"name\": \"Blackbox.ai\", \"url\": \"https://www.blackbox.ai/\", \"function\": \"AI assistant designed to provide helpful and safe AI interactions.\"}\n",
        "]\n",
        "\n",
        "# Colors for each tool text\n",
        "colors = [\n",
        "    \"#1F618D\", \"#76448A\", \"#117A65\", \"#B03A2E\", \"#7D6608\",\n",
        "    \"#145A32\", \"#6C3483\", \"#0B5345\", \"#7B7D7D\", \"#A04000\",\n",
        "    \"#AF601A\", \"#1B4F72\", \"#884EA0\", \"#148F77\", \"#A93226\"\n",
        "]\n",
        "\n",
        "# Function to display the list of top 15 trending AI tools with their URLs and functions in different text colors\n",
        "def display_ai_tools(tools, colors):\n",
        "    display(HTML(\"<style> .tool { margin-bottom: 20px; padding: 10px; } </style>\"))\n",
        "    for i, tool in enumerate(tools, start=1):\n",
        "        display(HTML(f\"\"\"\n",
        "        <div class='tool' style='color: {colors[i-1]}'>\n",
        "            <h3>{i}. <a href='{tool['url']}' target='_blank' style='color: {colors[i-1]}'>{tool['name']}</a></h3>\n",
        "            <p>{tool['function']}</p>\n",
        "        </div>\n",
        "        \"\"\"))\n",
        "\n",
        "# Display the list of top 15 trending AI tools with their URLs and functions in different text colors\n",
        "display_ai_tools(ai_tools, colors)\n"
      ],
      "metadata": {
        "colab": {
          "base_uri": "https://localhost:8080/",
          "height": 1000
        },
        "id": "gbvuUHMno7ZL",
        "outputId": "9963b98f-1b1d-48c8-bddf-74f06673b8a1"
      },
      "execution_count": 3,
      "outputs": [
        {
          "output_type": "display_data",
          "data": {
            "text/plain": [
              "<IPython.core.display.HTML object>"
            ],
            "text/html": [
              "<style> .tool { margin-bottom: 20px; padding: 10px; } </style>"
            ]
          },
          "metadata": {}
        },
        {
          "output_type": "display_data",
          "data": {
            "text/plain": [
              "<IPython.core.display.HTML object>"
            ],
            "text/html": [
              "\n",
              "        <div class='tool' style='color: #1F618D'>\n",
              "            <h3>1. <a href='https://www.openai.com/chatgpt' target='_blank' style='color: #1F618D'>ChatGPT</a></h3>\n",
              "            <p>Advanced conversational AI that can engage in natural language conversations.</p>\n",
              "        </div>\n",
              "        "
            ]
          },
          "metadata": {}
        },
        {
          "output_type": "display_data",
          "data": {
            "text/plain": [
              "<IPython.core.display.HTML object>"
            ],
            "text/html": [
              "\n",
              "        <div class='tool' style='color: #76448A'>\n",
              "            <h3>2. <a href='https://www.jasper.ai/' target='_blank' style='color: #76448A'>Jasper</a></h3>\n",
              "            <p>AI-powered content creation tool for generating text for blogs, ads, and more.</p>\n",
              "        </div>\n",
              "        "
            ]
          },
          "metadata": {}
        },
        {
          "output_type": "display_data",
          "data": {
            "text/plain": [
              "<IPython.core.display.HTML object>"
            ],
            "text/html": [
              "\n",
              "        <div class='tool' style='color: #117A65'>\n",
              "            <h3>3. <a href='https://www.copy.ai/' target='_blank' style='color: #117A65'>Copy.ai</a></h3>\n",
              "            <p>AI tool for creating marketing copy, blog posts, and social media content.</p>\n",
              "        </div>\n",
              "        "
            ]
          },
          "metadata": {}
        },
        {
          "output_type": "display_data",
          "data": {
            "text/plain": [
              "<IPython.core.display.HTML object>"
            ],
            "text/html": [
              "\n",
              "        <div class='tool' style='color: #B03A2E'>\n",
              "            <h3>4. <a href='https://www.grammarly.com/' target='_blank' style='color: #B03A2E'>Grammarly</a></h3>\n",
              "            <p>AI tool for grammar checking, spelling correction, and writing enhancement.</p>\n",
              "        </div>\n",
              "        "
            ]
          },
          "metadata": {}
        },
        {
          "output_type": "display_data",
          "data": {
            "text/plain": [
              "<IPython.core.display.HTML object>"
            ],
            "text/html": [
              "\n",
              "        <div class='tool' style='color: #7D6608'>\n",
              "            <h3>5. <a href='https://www.descript.com/' target='_blank' style='color: #7D6608'>Descript</a></h3>\n",
              "            <p>AI-powered video and audio editing tool with transcription capabilities.</p>\n",
              "        </div>\n",
              "        "
            ]
          },
          "metadata": {}
        },
        {
          "output_type": "display_data",
          "data": {
            "text/plain": [
              "<IPython.core.display.HTML object>"
            ],
            "text/html": [
              "\n",
              "        <div class='tool' style='color: #145A32'>\n",
              "            <h3>6. <a href='https://www.openai.com/dall-e-3' target='_blank' style='color: #145A32'>DALL·E 3</a></h3>\n",
              "            <p>AI image generator that creates images from textual descriptions.</p>\n",
              "        </div>\n",
              "        "
            ]
          },
          "metadata": {}
        },
        {
          "output_type": "display_data",
          "data": {
            "text/plain": [
              "<IPython.core.display.HTML object>"
            ],
            "text/html": [
              "\n",
              "        <div class='tool' style='color: #6C3483'>\n",
              "            <h3>7. <a href='https://www.anyword.com/' target='_blank' style='color: #6C3483'>Anyword</a></h3>\n",
              "            <p>AI copywriting tool for creating and optimizing marketing copy.</p>\n",
              "        </div>\n",
              "        "
            ]
          },
          "metadata": {}
        },
        {
          "output_type": "display_data",
          "data": {
            "text/plain": [
              "<IPython.core.display.HTML object>"
            ],
            "text/html": [
              "\n",
              "        <div class='tool' style='color: #0B5345'>\n",
              "            <h3>8. <a href='https://filmora.wondershare.com/' target='_blank' style='color: #0B5345'>Wondershare Filmora</a></h3>\n",
              "            <p>User-friendly video editing software with AI features.</p>\n",
              "        </div>\n",
              "        "
            ]
          },
          "metadata": {}
        },
        {
          "output_type": "display_data",
          "data": {
            "text/plain": [
              "<IPython.core.display.HTML object>"
            ],
            "text/html": [
              "\n",
              "        <div class='tool' style='color: #7B7D7D'>\n",
              "            <h3>9. <a href='https://runwayml.com/' target='_blank' style='color: #7B7D7D'>Runway</a></h3>\n",
              "            <p>AI tools for creative projects, including video editing and effects.</p>\n",
              "        </div>\n",
              "        "
            ]
          },
          "metadata": {}
        },
        {
          "output_type": "display_data",
          "data": {
            "text/plain": [
              "<IPython.core.display.HTML object>"
            ],
            "text/html": [
              "\n",
              "        <div class='tool' style='color: #A04000'>\n",
              "            <h3>10. <a href='https://www.midjourney.com/' target='_blank' style='color: #A04000'>Midjourney</a></h3>\n",
              "            <p>AI tool for generating artistic and creative images from text prompts.</p>\n",
              "        </div>\n",
              "        "
            ]
          },
          "metadata": {}
        },
        {
          "output_type": "display_data",
          "data": {
            "text/plain": [
              "<IPython.core.display.HTML object>"
            ],
            "text/html": [
              "\n",
              "        <div class='tool' style='color: #AF601A'>\n",
              "            <h3>11. <a href='https://prowritingaid.com/' target='_blank' style='color: #AF601A'>ProWritingAid</a></h3>\n",
              "            <p>Comprehensive writing assistant for grammar checking and style improvement.</p>\n",
              "        </div>\n",
              "        "
            ]
          },
          "metadata": {}
        },
        {
          "output_type": "display_data",
          "data": {
            "text/plain": [
              "<IPython.core.display.HTML object>"
            ],
            "text/html": [
              "\n",
              "        <div class='tool' style='color: #1B4F72'>\n",
              "            <h3>12. <a href='https://stability.ai/stable-diffusion' target='_blank' style='color: #1B4F72'>Stable Diffusion</a></h3>\n",
              "            <p>AI model for generating high-quality images from text descriptions.</p>\n",
              "        </div>\n",
              "        "
            ]
          },
          "metadata": {}
        },
        {
          "output_type": "display_data",
          "data": {
            "text/plain": [
              "<IPython.core.display.HTML object>"
            ],
            "text/html": [
              "\n",
              "        <div class='tool' style='color: #884EA0'>\n",
              "            <h3>13. <a href='https://zapier.com/apps/central' target='_blank' style='color: #884EA0'>Zapier Central</a></h3>\n",
              "            <p>Integrates with various apps to automate workflows.</p>\n",
              "        </div>\n",
              "        "
            ]
          },
          "metadata": {}
        },
        {
          "output_type": "display_data",
          "data": {
            "text/plain": [
              "<IPython.core.display.HTML object>"
            ],
            "text/html": [
              "\n",
              "        <div class='tool' style='color: #148F77'>\n",
              "            <h3>14. <a href='https://www.wordtune.com/' target='_blank' style='color: #148F77'>Wordtune</a></h3>\n",
              "            <p>AI tool for rephrasing sentences to improve clarity and style.</p>\n",
              "        </div>\n",
              "        "
            ]
          },
          "metadata": {}
        },
        {
          "output_type": "display_data",
          "data": {
            "text/plain": [
              "<IPython.core.display.HTML object>"
            ],
            "text/html": [
              "\n",
              "        <div class='tool' style='color: #A93226'>\n",
              "            <h3>15. <a href='https://www.blackbox.ai/' target='_blank' style='color: #A93226'>Blackbox.ai</a></h3>\n",
              "            <p>AI assistant designed to provide helpful and safe AI interactions.</p>\n",
              "        </div>\n",
              "        "
            ]
          },
          "metadata": {}
        }
      ]
    }
  ]
}